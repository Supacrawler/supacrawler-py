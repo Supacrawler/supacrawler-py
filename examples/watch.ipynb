{
  "cells": [
    {
      "cell_type": "code",
      "execution_count": null,
      "metadata": {},
      "outputs": [],
      "source": [
        "# Supacrawler Python SDK - Watch Examples\n",
        "\n",
        "from supacrawler import SupacrawlerClient, WatchCreateRequest\n",
        "import os\n",
        "\n",
        "client = SupacrawlerClient(api_key=os.environ.get(\"SUPACRAWLER_API_KEY\", \"YOUR_API_KEY\"))\n",
        "\n",
        "# Create watch\n",
        "created = client.watch_create(WatchCreateRequest(\n",
        "    url=\"https://example.com/pricing\",\n",
        "    frequency=\"daily\",\n",
        "    notify_email=\"alerts@yourcompany.com\",\n",
        "    selector=\"#pricing-table\",\n",
        "    include_html=True,\n",
        "    include_image=True,\n",
        "    full_page=True,\n",
        "    quality=85,\n",
        "))\n",
        "print(created)\n",
        "\n",
        "# Get details\n",
        "details = client.watch_get(created.watch_id)\n",
        "print(details)\n",
        "\n",
        "# List watches\n",
        "lst = client.watch_list()\n",
        "print(lst.total)\n",
        "\n",
        "# Pause, resume, check\n",
        "client.watch_pause(created.watch_id)\n",
        "client.watch_resume(created.watch_id)\n",
        "client.watch_check(created.watch_id)\n",
        "\n",
        "# Delete watch\n",
        "client.watch_delete(created.watch_id)\n",
        "\n"
      ]
    }
  ],
  "metadata": {
    "language_info": {
      "name": "python"
    }
  },
  "nbformat": 4,
  "nbformat_minor": 2
}
