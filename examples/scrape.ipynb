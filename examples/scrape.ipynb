{
  "cells": [
    {
      "cell_type": "code",
      "execution_count": null,
      "metadata": {},
      "outputs": [],
      "source": [
        "# Supacrawler Python SDK - Scrape Examples\n",
        "\n",
        "from supacrawler import SupacrawlerClient, ScrapeParams\n",
        "import os\n",
        "\n",
        "client = SupacrawlerClient(api_key=os.environ.get(\"SUPACRAWLER_API_KEY\", \"YOUR_API_KEY\"))\n",
        "\n",
        "# Basic markdown scrape\n",
        "res_md = client.scrape(ScrapeParams(url=\"https://example.com\", format=\"markdown\"))\n",
        "print(res_md)\n",
        "\n",
        "# HTML scrape with JS rendering\n",
        "res_html = client.scrape(ScrapeParams(url=\"https://spa-example.com\", format=\"html\", render_js=True, wait=3000, device=\"desktop\"))\n",
        "print(res_html)\n",
        "\n",
        "# Links mapping with depth and max_links\n",
        "res_links = client.scrape(ScrapeParams(url=\"https://example.com\", format=\"links\", depth=2, max_links=100))\n",
        "print(res_links)\n",
        "\n",
        "# Fresh content bypassing cache\n",
        "res_fresh = client.scrape(ScrapeParams(url=\"https://news-site.com/article\", format=\"markdown\", fresh=True))\n",
        "print(res_fresh)\n",
        "\n"
      ]
    }
  ],
  "metadata": {
    "language_info": {
      "name": "python"
    }
  },
  "nbformat": 4,
  "nbformat_minor": 2
}
