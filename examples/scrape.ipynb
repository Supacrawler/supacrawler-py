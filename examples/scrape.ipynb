{
  "cells": [
    {
      "cell_type": "markdown",
      "metadata": {},
      "source": [
        "First let's start with a basic scrape:"
      ]
    },
    {
      "cell_type": "code",
      "execution_count": 7,
      "metadata": {},
      "outputs": [
        {
          "name": "stdout",
          "output_type": "stream",
          "text": [
            "ScrapeResponse(success=True, url='https://supacrawler.com', metadata=ScrapeMetadata(status_code=200, depth=<supacrawler.scraper_client.types.Unset object at 0x1151f9dd0>, source_url='https://supacrawler.com', title='Supacrawler', description='One API to extract structured content, crawl entire sites, monitor changes, and capture pixel-perfect screenshots. Built-in headless browser, anti-blocking. Start for free.', language=<supacrawler.scraper_client.types.Unset object at 0x1151f9dd0>, canonical=<supacrawler.scraper_client.types.Unset object at 0x1151f9dd0>, favicon='https://supacrawler.com/favicon-16x16.png', og_title='Supacrawler', og_description='One API to extract structured content, crawl entire sites, monitor changes, and capture pixel-perfect screenshots. Built-in headless browser, anti-blocking. Start for free.', og_image='https://supacrawler.com/opengraph-image?9f80819947a5ecad', og_site_name=<supacrawler.scraper_client.types.Unset object at 0x1151f9dd0>, twitter_title='Supacrawler', twitter_description='One API to extract structured content, crawl entire sites, monitor changes, and capture pixel-perfect screenshots. Built-in headless browser, anti-blocking. Start for free.', twitter_image='https://supacrawler.com/opengraph-image', additional_properties={}), title='Supacrawler', content=\"# Scrape Everything\\n[Get 500 credits for free](/signup) [Get Started](/dashboard)\\n\\n## Deploy faster\\nBuilt for your needs\\nScrape, transform, and load data from any website.\\nCustomize your data to fit your needs.\\n\\n## Developer-first\\nThree powerful APIs\\nExtract data from any website with our simple, reliable APIs. From single pages to entire websites, we handle the complexity so you can focus on building.\\n```\\n1// Scrape API - Extract clean content from any webpage\\n2import { SupacrawlerClient } from '@supacrawler/js'\\n3\\n4const client = new SupacrawlerClient({ apiKey: process.env.SUPACRAWLER_API_KEY })\\n5const result = await client.scrape({ url: 'https://example.com', format: 'markdown' })\\n6console.log(result) // Clean markdown content\\n```\\n\\n\", links=<supacrawler.scraper_client.types.Unset object at 0x1151f9dd0>, discovered=<supacrawler.scraper_client.types.Unset object at 0x1151f9dd0>, additional_properties={})\n"
          ]
        }
      ],
      "source": [
        "# Supacrawler Python SDK - Scrape Examples\n",
        "import os\n",
        "from dotenv import load_dotenv\n",
        "from supacrawler import SupacrawlerClient\n",
        "from supacrawler.scraper_client.models import GetV1ScrapeFormat\n",
        "\n",
        "load_dotenv()\n",
        "\n",
        "SUPACRAWLER_API_KEY=os.environ.get(\"SUPACRAWLER_API_KEY\")\n",
        "client = SupacrawlerClient(api_key=SUPACRAWLER_API_KEY)\n",
        "\n",
        "# Basic markdown scrape\n",
        "res_md = client.scrape(\"https://supacrawler.com\", format=\"markdown\")\n",
        "print(res_md)"
      ]
    },
    {
      "cell_type": "code",
      "execution_count": 8,
      "metadata": {},
      "outputs": [
        {
          "data": {
            "text/plain": [
              "\"# Scrape Everything\\n[Get 500 credits for free](/signup) [Get Started](/dashboard)\\n\\n## Deploy faster\\nBuilt for your needs\\nScrape, transform, and load data from any website.\\nCustomize your data to fit your needs.\\n\\n## Developer-first\\nThree powerful APIs\\nExtract data from any website with our simple, reliable APIs. From single pages to entire websites, we handle the complexity so you can focus on building.\\n```\\n1// Scrape API - Extract clean content from any webpage\\n2import { SupacrawlerClient } from '@supacrawler/js'\\n3\\n4const client = new SupacrawlerClient({ apiKey: process.env.SUPACRAWLER_API_KEY })\\n5const result = await client.scrape({ url: 'https://example.com', format: 'markdown' })\\n6console.log(result) // Clean markdown content\\n```\\n\\n\""
            ]
          },
          "execution_count": 8,
          "metadata": {},
          "output_type": "execute_result"
        }
      ],
      "source": [
        "res_md.content"
      ]
    },
    {
      "cell_type": "markdown",
      "metadata": {},
      "source": [
        "A good example of a website that won't work unless you set `render_js=True` is `https://ai.google.dev/gemini-api/docs`:"
      ]
    },
    {
      "cell_type": "code",
      "execution_count": 10,
      "metadata": {},
      "outputs": [],
      "source": [
        "# This happens because google redirects you to authenticate with google account. Catch the error and log it.\n",
        "try:\n",
        "    res_md = client.scrape(\"https://ai.google.dev/gemini-api/docs\", format=\"markdown\")\n",
        "except Exception as e:\n",
        "    print(\"This will not work for google with the following error:\\n\", e)\n",
        "    print(\"---\")"
      ]
    },
    {
      "cell_type": "code",
      "execution_count": 11,
      "metadata": {},
      "outputs": [],
      "source": [
        "res_md"
      ]
    },
    {
      "cell_type": "code",
      "execution_count": 13,
      "metadata": {},
      "outputs": [
        {
          "name": "stdout",
          "output_type": "stream",
          "text": [
            "This will work:\n",
            " ScrapeResponse(success=True, url='https://supacrawler.com', metadata=ScrapeMetadata(status_code=200, depth=<supacrawler.scraper_client.types.Unset object at 0x1151f9dd0>, source_url='https://supacrawler.com', title='Supacrawler', description='One API to extract structured content, crawl entire sites, monitor changes, and capture pixel-perfect screenshots. Built-in headless browser, anti-blocking. Start for free.', language=<supacrawler.scraper_client.types.Unset object at 0x1151f9dd0>, canonical=<supacrawler.scraper_client.types.Unset object at 0x1151f9dd0>, favicon='https://supacrawler.com/favicon-16x16.png', og_title='Supacrawler', og_description='One API to extract structured content, crawl entire sites, monitor changes, and capture pixel-perfect screenshots. Built-in headless browser, anti-blocking. Start for free.', og_image='https://supacrawler.com/opengraph-image?9f80819947a5ecad', og_site_name=<supacrawler.scraper_client.types.Unset object at 0x1151f9dd0>, twitter_title='Supacrawler', twitter_description='One API to extract structured content, crawl entire sites, monitor changes, and capture pixel-perfect screenshots. Built-in headless browser, anti-blocking. Start for free.', twitter_image='https://supacrawler.com/opengraph-image', additional_properties={}), title='Supacrawler', content=\"# Scrape Everything\\n[Get 500 credits for free](/signup) [Get Started](/dashboard)\\n\\n## Deploy faster\\nBuilt for your needs\\nScrape, transform, and load data from any website.\\nCustomize your data to fit your needs.\\n\\n## Developer-first\\nThree powerful APIs\\nExtract data from any website with our simple, reliable APIs. From single pages to entire websites, we handle the complexity so you can focus on building.\\n```\\n1// Scrape API - Extract clean content from any webpage\\n2import { SupacrawlerClient } from '@supacrawler/js'\\n3\\n4const client = new SupacrawlerClient({ apiKey: process.env.SUPACRAWLER_API_KEY })\\n5const result = await client.scrape({ url: 'https://example.com', format: 'markdown' })\\n6console.log(result) // Clean markdown content\\n```\\n\\n\", links=<supacrawler.scraper_client.types.Unset object at 0x1151f9dd0>, discovered=<supacrawler.scraper_client.types.Unset object at 0x1151f9dd0>, additional_properties={})\n",
            "Content:\n",
            " # Scrape Everything\n",
            "[Get 500 credits for free](/signup) [Get Started](/dashboard)\n",
            "\n",
            "## Deploy faster\n",
            "Built for your needs\n",
            "Scrape, transform, and load data from any website.\n",
            "Customize your data to fit your needs.\n",
            "\n",
            "## Developer-first\n",
            "Three powerful APIs\n",
            "Extract data from any website with our simple, reliable APIs. From single pages to entire websites, we handle the complexity so you can focus on building.\n",
            "```\n",
            "1// Scrape API - Extract clean content from any webpage\n",
            "2import { SupacrawlerClient } from '@supacrawler/js'\n",
            "3\n",
            "4const client = new SupacrawlerClient({ apiKey: process.env.SUPACRAWLER_API_KEY })\n",
            "5const result = await client.scrape({ url: 'https://example.com', format: 'markdown' })\n",
            "6console.log(result) // Clean markdown content\n",
            "```\n",
            "\n",
            "\n",
            "Metadata:\n",
            " ScrapeMetadata(status_code=200, depth=<supacrawler.scraper_client.types.Unset object at 0x1151f9dd0>, source_url='https://supacrawler.com', title='Supacrawler', description='One API to extract structured content, crawl entire sites, monitor changes, and capture pixel-perfect screenshots. Built-in headless browser, anti-blocking. Start for free.', language=<supacrawler.scraper_client.types.Unset object at 0x1151f9dd0>, canonical=<supacrawler.scraper_client.types.Unset object at 0x1151f9dd0>, favicon='https://supacrawler.com/favicon-16x16.png', og_title='Supacrawler', og_description='One API to extract structured content, crawl entire sites, monitor changes, and capture pixel-perfect screenshots. Built-in headless browser, anti-blocking. Start for free.', og_image='https://supacrawler.com/opengraph-image?9f80819947a5ecad', og_site_name=<supacrawler.scraper_client.types.Unset object at 0x1151f9dd0>, twitter_title='Supacrawler', twitter_description='One API to extract structured content, crawl entire sites, monitor changes, and capture pixel-perfect screenshots. Built-in headless browser, anti-blocking. Start for free.', twitter_image='https://supacrawler.com/opengraph-image', additional_properties={})\n"
          ]
        }
      ],
      "source": [
        "# Rendering JS should work!\n",
        "res_md_rendered = client.scrape(\"https://supacrawler.com\", format=\"markdown\", render_js=True)\n",
        "print(\"This will work:\\n\", res_md_rendered)\n",
        "print(\"Content:\\n\", res_md_rendered.content)\n",
        "print(\"Metadata:\\n\", res_md_rendered.metadata)"
      ]
    },
    {
      "cell_type": "code",
      "execution_count": null,
      "metadata": {},
      "outputs": [
        {
          "name": "stdout",
          "output_type": "stream",
          "text": [
            "{\n",
            "  \"status_code\": 200,\n",
            "  \"source_url\": \"https://supacrawler.com\",\n",
            "  \"title\": \"Supacrawler\",\n",
            "  \"description\": \"One API to extract structured content, crawl entire sites, monitor changes, and capture pixel-perfect screenshots. Built-in headless browser, anti-blocking. Start for free.\",\n",
            "  \"favicon\": \"https://supacrawler.com/favicon-16x16.png\",\n",
            "  \"og_title\": \"Supacrawler\",\n",
            "  \"og_description\": \"One API to extract structured content, crawl entire sites, monitor changes, and capture pixel-perfect screenshots. Built-in headless browser, anti-blocking. Start for free.\",\n",
            "  \"og_image\": \"https://supacrawler.com/opengraph-image?9f80819947a5ecad\",\n",
            "  \"twitter_title\": \"Supacrawler\",\n",
            "  \"twitter_description\": \"One API to extract structured content, crawl entire sites, monitor changes, and capture pixel-perfect screenshots. Built-in headless browser, anti-blocking. Start for free.\",\n",
            "  \"twitter_image\": \"https://supacrawler.com/opengraph-image\"\n",
            "}\n"
          ]
        }
      ],
      "source": [
        "import json\n",
        "\n",
        "# Display metadata\n",
        "metadata_json = json.dumps(res_md_rendered.metadata.to_dict(), indent=2)\n",
        "print(metadata_json)"
      ]
    },
    {
      "cell_type": "markdown",
      "metadata": {},
      "source": [
        "You can also extract all the existing links within a starting url:"
      ]
    },
    {
      "cell_type": "code",
      "execution_count": 18,
      "metadata": {},
      "outputs": [
        {
          "name": "stdout",
          "output_type": "stream",
          "text": [
            "ScrapeResponse(success=True, url='https://supacrawler.com', metadata=ScrapeMetadata(status_code=<supacrawler.scraper_client.types.Unset object at 0x1151f9dd0>, depth=<supacrawler.scraper_client.types.Unset object at 0x1151f9dd0>, source_url=<supacrawler.scraper_client.types.Unset object at 0x1151f9dd0>, title=<supacrawler.scraper_client.types.Unset object at 0x1151f9dd0>, description=<supacrawler.scraper_client.types.Unset object at 0x1151f9dd0>, language=<supacrawler.scraper_client.types.Unset object at 0x1151f9dd0>, canonical=<supacrawler.scraper_client.types.Unset object at 0x1151f9dd0>, favicon=<supacrawler.scraper_client.types.Unset object at 0x1151f9dd0>, og_title=<supacrawler.scraper_client.types.Unset object at 0x1151f9dd0>, og_description=<supacrawler.scraper_client.types.Unset object at 0x1151f9dd0>, og_image=<supacrawler.scraper_client.types.Unset object at 0x1151f9dd0>, og_site_name=<supacrawler.scraper_client.types.Unset object at 0x1151f9dd0>, twitter_title=<supacrawler.scraper_client.types.Unset object at 0x1151f9dd0>, twitter_description=<supacrawler.scraper_client.types.Unset object at 0x1151f9dd0>, twitter_image=<supacrawler.scraper_client.types.Unset object at 0x1151f9dd0>, additional_properties={}), title=<supacrawler.scraper_client.types.Unset object at 0x1151f9dd0>, content=<supacrawler.scraper_client.types.Unset object at 0x1151f9dd0>, links=['https://supacrawler.com/terms-of-service', 'https://supacrawler.com/signup', 'https://supacrawler.com', 'https://supacrawler.com/pricing', 'https://supacrawler.com/blog/how-to-crawl-blogs-and-docs', 'https://supacrawler.com/contact', 'https://supacrawler.com/blog/your-first-web-scrape', 'https://supacrawler.com/forgot-password', 'https://supacrawler.com/dashboard/scrape', 'https://supacrawler.com/dashboard', 'https://supacrawler.com/work', 'https://supacrawler.com/privacy-policy', 'https://supacrawler.com/blog', 'https://supacrawler.com/signin', 'https://supacrawler.com/about', 'https://supacrawler.com/blog/how-to-take-full-page-screenshots'], discovered=16, additional_properties={})\n"
          ]
        }
      ],
      "source": [
        "# Links mapping with depth and max_links\n",
        "res_links = client.scrape(\"https://supacrawler.com\", format=\"links\", depth=2, max_links=10)\n",
        "print(res_links)"
      ]
    },
    {
      "cell_type": "code",
      "execution_count": null,
      "metadata": {},
      "outputs": [
        {
          "data": {
            "text/plain": [
              "['https://supacrawler.com/terms-of-service',\n",
              " 'https://supacrawler.com/signup',\n",
              " 'https://supacrawler.com',\n",
              " 'https://supacrawler.com/pricing',\n",
              " 'https://supacrawler.com/blog/how-to-crawl-blogs-and-docs',\n",
              " 'https://supacrawler.com/contact',\n",
              " 'https://supacrawler.com/blog/your-first-web-scrape',\n",
              " 'https://supacrawler.com/forgot-password',\n",
              " 'https://supacrawler.com/dashboard/scrape',\n",
              " 'https://supacrawler.com/dashboard',\n",
              " 'https://supacrawler.com/work',\n",
              " 'https://supacrawler.com/privacy-policy',\n",
              " 'https://supacrawler.com/blog',\n",
              " 'https://supacrawler.com/signin',\n",
              " 'https://supacrawler.com/about',\n",
              " 'https://supacrawler.com/blog/how-to-take-full-page-screenshots']"
            ]
          },
          "execution_count": 21,
          "metadata": {},
          "output_type": "execute_result"
        }
      ],
      "source": [
        "# Display the links\n",
        "res_links.links"
      ]
    }
  ],
  "metadata": {
    "kernelspec": {
      "display_name": ".venv",
      "language": "python",
      "name": "python3"
    },
    "language_info": {
      "codemirror_mode": {
        "name": "ipython",
        "version": 3
      },
      "file_extension": ".py",
      "mimetype": "text/x-python",
      "name": "python",
      "nbconvert_exporter": "python",
      "pygments_lexer": "ipython3",
      "version": "3.11.13"
    }
  },
  "nbformat": 4,
  "nbformat_minor": 2
}
