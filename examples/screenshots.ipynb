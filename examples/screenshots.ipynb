{
  "cells": [
    {
      "cell_type": "code",
      "execution_count": null,
      "metadata": {},
      "outputs": [],
      "source": [
        "%pip install -U supacrawler-py"
      ]
    },
    {
      "cell_type": "code",
      "execution_count": null,
      "metadata": {},
      "outputs": [
        {
          "name": "stdout",
          "output_type": "stream",
          "text": [
            "success=True job_id='943ca883-946b-4d99-9b98-9179857e1fc5' type='screenshot' status='processing' status_url='/v1/jobs/943ca883-946b-4d99-9b98-9179857e1fc5' url='https://supacrawler.com/blog' screenshot=None metadata=ScreenshotMetadata(device='desktop', format='png', width=1920, height=1080, file_size=None, load_time=None, quality=80, device_scale=1.0)\n"
          ]
        }
      ],
      "source": [
        "# Supacrawler Python SDK - Screenshot Examples\n",
        "\n",
        "from supacrawler import SupacrawlerClient\n",
        "from supacrawler.scraper_client.models import ScreenshotCreateRequest\n",
        "import os\n",
        "from dotenv import load_dotenv\n",
        "\n",
        "load_dotenv()\n",
        "\n",
        "SUPACRAWLER_API_KEY=os.environ.get(\"SUPACRAWLER_API_KEY\")\n",
        "client = SupacrawlerClient(api_key=SUPACRAWLER_API_KEY)\n",
        "\n",
        "# Create screenshot job\n",
        "job = client.create_screenshot_job(ScreenshotCreateRequest(\n",
        "    url=\"https://supacrawler.com/blog\",\n",
        "    full_page=False,\n",
        "    format=\"png\",\n",
        "    width=1920,\n",
        "    height=1080,\n",
        "))\n",
        "print(job)"
      ]
    },
    {
      "cell_type": "code",
      "execution_count": null,
      "metadata": {},
      "outputs": [
        {
          "ename": "KeyboardInterrupt",
          "evalue": "",
          "output_type": "error",
          "traceback": [
            "\u001b[31m---------------------------------------------------------------------------\u001b[39m",
            "\u001b[31mKeyboardInterrupt\u001b[39m                         Traceback (most recent call last)",
            "\u001b[36mCell\u001b[39m\u001b[36m \u001b[39m\u001b[32mIn[5]\u001b[39m\u001b[32m, line 2\u001b[39m\n\u001b[32m      1\u001b[39m \u001b[38;5;66;03m# Wait for completion\u001b[39;00m\n\u001b[32m----> \u001b[39m\u001b[32m2\u001b[39m final = \u001b[43mclient\u001b[49m\u001b[43m.\u001b[49m\u001b[43mwait_for_screenshot\u001b[49m\u001b[43m(\u001b[49m\u001b[43mjob\u001b[49m\u001b[43m.\u001b[49m\u001b[43mjob_id\u001b[49m\u001b[43m,\u001b[49m\u001b[43m \u001b[49m\u001b[43minterval_seconds\u001b[49m\u001b[43m=\u001b[49m\u001b[32;43m3.0\u001b[39;49m\u001b[43m,\u001b[49m\u001b[43m \u001b[49m\u001b[43mtimeout_seconds\u001b[49m\u001b[43m=\u001b[49m\u001b[32;43m180.0\u001b[39;49m\u001b[43m)\u001b[49m\n\u001b[32m      3\u001b[39m \u001b[38;5;28mprint\u001b[39m(final.status)\n\u001b[32m      4\u001b[39m \u001b[38;5;28;01mif\u001b[39;00m final.status == \u001b[33m\"\u001b[39m\u001b[33mcompleted\u001b[39m\u001b[33m\"\u001b[39m \u001b[38;5;129;01mand\u001b[39;00m final.data \u001b[38;5;129;01mis\u001b[39;00m \u001b[38;5;129;01mnot\u001b[39;00m \u001b[38;5;28;01mNone\u001b[39;00m:\n",
            "\u001b[36mFile \u001b[39m\u001b[32m~/Desktop/Startups/Supacrawler/.venv/lib/python3.13/site-packages/supacrawler/client.py:111\u001b[39m, in \u001b[36mSupacrawlerClient.wait_for_screenshot\u001b[39m\u001b[34m(self, job_id, interval_seconds, timeout_seconds)\u001b[39m\n\u001b[32m    105\u001b[39m \u001b[38;5;28;01mdef\u001b[39;00m\u001b[38;5;250m \u001b[39m\u001b[34mwait_for_screenshot\u001b[39m(\u001b[38;5;28mself\u001b[39m, job_id: \u001b[38;5;28mstr\u001b[39m, interval_seconds: \u001b[38;5;28mfloat\u001b[39m = \u001b[32m3.0\u001b[39m, timeout_seconds: \u001b[38;5;28mfloat\u001b[39m = \u001b[32m300.0\u001b[39m) -> ScreenshotGetResponse:\n\u001b[32m    106\u001b[39m \u001b[38;5;250m    \u001b[39m\u001b[33;03m\"\"\"Wait until the screenshot job completes and return a fresh signed URL.\u001b[39;00m\n\u001b[32m    107\u001b[39m \n\u001b[32m    108\u001b[39m \u001b[33;03m    This polls job status until it is completed, then calls GET /v1/screenshots\u001b[39;00m\n\u001b[32m    109\u001b[39m \u001b[33;03m    to obtain a renewed 15-minute signed URL.\u001b[39;00m\n\u001b[32m    110\u001b[39m \u001b[33;03m    \"\"\"\u001b[39;00m\n\u001b[32m--> \u001b[39m\u001b[32m111\u001b[39m     final = \u001b[38;5;28;43mself\u001b[39;49m\u001b[43m.\u001b[49m\u001b[43mwait_for_job\u001b[49m\u001b[43m(\u001b[49m\u001b[43mjob_id\u001b[49m\u001b[43m,\u001b[49m\u001b[43m \u001b[49m\u001b[43minterval_seconds\u001b[49m\u001b[43m=\u001b[49m\u001b[43minterval_seconds\u001b[49m\u001b[43m,\u001b[49m\u001b[43m \u001b[49m\u001b[43mtimeout_seconds\u001b[49m\u001b[43m=\u001b[49m\u001b[43mtimeout_seconds\u001b[49m\u001b[43m)\u001b[49m\n\u001b[32m    112\u001b[39m     \u001b[38;5;28;01mif\u001b[39;00m final.status != \u001b[33m\"\u001b[39m\u001b[33mcompleted\u001b[39m\u001b[33m\"\u001b[39m:\n\u001b[32m    113\u001b[39m         \u001b[38;5;28;01mraise\u001b[39;00m SupacrawlerError(\u001b[33mf\u001b[39m\u001b[33m\"\u001b[39m\u001b[33mJob \u001b[39m\u001b[38;5;132;01m{\u001b[39;00mjob_id\u001b[38;5;132;01m}\u001b[39;00m\u001b[33m did not complete; status=\u001b[39m\u001b[38;5;132;01m{\u001b[39;00mfinal.status\u001b[38;5;132;01m}\u001b[39;00m\u001b[33m\"\u001b[39m)\n",
            "\u001b[36mFile \u001b[39m\u001b[32m~/Desktop/Startups/Supacrawler/.venv/lib/python3.13/site-packages/supacrawler/client.py:90\u001b[39m, in \u001b[36mSupacrawlerClient.wait_for_job\u001b[39m\u001b[34m(self, job_id, interval_seconds, timeout_seconds)\u001b[39m\n\u001b[32m     88\u001b[39m \u001b[38;5;28;01mif\u001b[39;00m time.time() - start > timeout_seconds:\n\u001b[32m     89\u001b[39m     \u001b[38;5;28;01mraise\u001b[39;00m SupacrawlerError(\u001b[33mf\u001b[39m\u001b[33m\"\u001b[39m\u001b[33mTimeout waiting for job \u001b[39m\u001b[38;5;132;01m{\u001b[39;00mjob_id\u001b[38;5;132;01m}\u001b[39;00m\u001b[33m\"\u001b[39m)\n\u001b[32m---> \u001b[39m\u001b[32m90\u001b[39m \u001b[43mtime\u001b[49m\u001b[43m.\u001b[49m\u001b[43msleep\u001b[49m\u001b[43m(\u001b[49m\u001b[43minterval_seconds\u001b[49m\u001b[43m)\u001b[49m\n",
            "\u001b[31mKeyboardInterrupt\u001b[39m: "
          ]
        }
      ],
      "source": [
        "# Wait for completion\n",
        "final = client.wait_for_screenshot(job.job_id, interval_seconds=3.0, timeout_seconds=180.0)\n",
        "print(final.status)\n",
        "if final.status and str(final.status).lower() == \"completed\":\n",
        "    print(\"Screenshot URL:\", final.screenshot)"
      ]
    },
    {
      "cell_type": "code",
      "execution_count": null,
      "metadata": {},
      "outputs": [],
      "source": [
        "# Get the screenshot with a renewed signed URL\n",
        "renewed = client.get_screenshot(job.job_id)\n",
        "print(\"Renewed Screenshot URL:\", renewed.screenshot)"
      ]
    }
  ],
  "metadata": {
    "kernelspec": {
      "display_name": ".venv",
      "language": "python",
      "name": "python3"
    },
    "language_info": {
      "codemirror_mode": {
        "name": "ipython",
        "version": 3
      },
      "file_extension": ".py",
      "mimetype": "text/x-python",
      "name": "python",
      "nbconvert_exporter": "python",
      "pygments_lexer": "ipython3",
      "version": "3.11.13"
    }
  },
  "nbformat": 4,
  "nbformat_minor": 2
}
