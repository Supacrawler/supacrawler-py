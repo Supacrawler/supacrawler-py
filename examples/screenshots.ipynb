{
  "cells": [
    {
      "cell_type": "code",
      "execution_count": null,
      "metadata": {},
      "outputs": [],
      "source": [
        "# Supacrawler Python SDK - Screenshot Examples\n",
        "\n",
        "from supacrawler import SupacrawlerClient, ScreenshotRequest\n",
        "import os\n",
        "\n",
        "client = SupacrawlerClient(api_key=os.environ.get(\"SUPACRAWLER_API_KEY\", \"YOUR_API_KEY\"))\n",
        "\n",
        "# Create screenshot job\n",
        "job = client.create_screenshot_job(ScreenshotRequest(\n",
        "    url=\"https://example.com\",\n",
        "    device=\"desktop\",\n",
        "    full_page=True,\n",
        "    format=\"png\",\n",
        "    quality=90,\n",
        "    width=1920,\n",
        "    height=1080,\n",
        "    device_scale=1.0,\n",
        "    dark_mode=False,\n",
        "    reduced_motion=False,\n",
        "    high_contrast=False,\n",
        "    block_ads=True,\n",
        "    hide_selectors=[\".popup\", \".banner\"],\n",
        "))\n",
        "print(job)\n",
        "\n",
        "# Wait for completion\n",
        "final = client.wait_for_job(job.job_id, interval_seconds=3.0, timeout_seconds=300.0)\n",
        "print(final.status)\n",
        "if final.status == \"completed\" and final.data is not None:\n",
        "    if hasattr(final.data, \"screenshot\"):\n",
        "        print(\"Screenshot URL:\", final.data.screenshot)"
      ]
    },
    {
      "cell_type": "code",
      "execution_count": null,
      "metadata": {},
      "outputs": [],
      "source": [
        "# Get the screenshot with a renewed signed URL\n",
        "renewed = client.get_screenshot(job.job_id)\n",
        "print(\"Renewed Screenshot URL:\", renewed.screenshot)"
      ]
    }
  ],
  "metadata": {
    "language_info": {
      "name": "python"
    }
  },
  "nbformat": 4,
  "nbformat_minor": 2
}
